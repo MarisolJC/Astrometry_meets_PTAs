{
 "cells": [
  {
   "cell_type": "markdown",
   "id": "3ffb83c4-3b8e-4bf9-8094-fd295cd9ab60",
   "metadata": {},
   "source": [
    "# Astrometry Response functions (Maps)"
   ]
  },
  {
   "cell_type": "code",
   "execution_count": 1,
   "id": "f1374f52-3257-4082-921a-463bbd7d8e99",
   "metadata": {},
   "outputs": [],
   "source": [
    "import numpy as np\n",
    "import matplotlib\n",
    "from matplotlib import colormaps\n",
    "import matplotlib.pyplot as plt\n",
    "import healpy as hp\n",
    "import itertools"
   ]
  },
  {
   "cell_type": "code",
   "execution_count": 2,
   "id": "2c339de4-f32c-4fcb-b540-bf5bfdc76490",
   "metadata": {},
   "outputs": [],
   "source": [
    "# Going from ecliptic coordinates to spherical ones.\n",
    "# Velocity with respect to the cosmic frame (in galactic coordinates(l, b) = (264◦, 48◦)):\n",
    "v_theta = (np.pi/2)-np.radians(-7.145) # (pi/2 - Declination) E[0,pi]\n",
    "v_phi = np.radians(167.78) # Right Ascension E[0,2pi]"
   ]
  },
  {
   "cell_type": "code",
   "execution_count": 3,
   "id": "ddafabd3-bb5f-4c0e-bc90-aff424d1f23f",
   "metadata": {},
   "outputs": [
    {
     "name": "stdout",
     "output_type": "stream",
     "text": [
      "[-0.90019763  0.12832006 -0.41614684]\n",
      "1.0\n"
     ]
    }
   ],
   "source": [
    "# unit vector in R3. \n",
    "# Given two angles, \\theta E[0,pi] and \\phi E[0,2pi], the next function retuns its cartesian coordinates\n",
    "def skyvec(theta,phi): \n",
    "    st = np.sin(theta)\n",
    "    cp = np.cos(phi)\n",
    "    sp = np.sin(phi)\n",
    "    ct = np.cos(theta)\n",
    "    return np.array([st*cp,st*sp,ct])\n",
    "\n",
    "print(skyvec(2,3))\n",
    "print(np.dot(skyvec(2,3),skyvec(2,3)))"
   ]
  },
  {
   "cell_type": "markdown",
   "id": "445411bf-c87c-41a4-9ba7-36e3a669d645",
   "metadata": {},
   "source": [
    "## Ploting random stars in the Sky"
   ]
  },
  {
   "cell_type": "code",
   "execution_count": 5,
   "id": "7bc178fa-6f9d-45dd-bf2d-60ba6e450e31",
   "metadata": {},
   "outputs": [
    {
     "name": "stdout",
     "output_type": "stream",
     "text": [
      "[[ 4.81503544e-01  2.23820631e-01 -8.47383421e-01]\n",
      " [-5.16331070e-01  6.48061807e-01  5.59837584e-01]\n",
      " [ 3.81666597e-01 -9.16055084e-01 -1.23181537e-01]\n",
      " [-8.03853253e-01  3.92521599e-01  4.46930356e-01]\n",
      " [-2.37551558e-01 -1.72259580e-01  9.55979024e-01]\n",
      " [-1.36380495e-01 -9.87660181e-01  7.69917408e-02]\n",
      " [ 4.32744664e-01 -9.01513746e-01  2.24092732e-03]\n",
      " [ 3.41421235e-02 -5.16016846e-01 -8.55897733e-01]\n",
      " [ 8.85401976e-01  3.97657794e-02 -4.63122040e-01]\n",
      " [-8.77082937e-01  4.80338909e-01 -2.34998349e-04]\n",
      " [-9.08615086e-01  2.14301328e-01  3.58459992e-01]\n",
      " [ 7.46527734e-01  2.71416164e-01  6.07478072e-01]\n",
      " [-9.38495926e-01 -2.50050677e-01 -2.38117734e-01]\n",
      " [-3.86831580e-01 -3.10992459e-01 -8.68127306e-01]\n",
      " [ 4.28636832e-01 -7.97960725e-01 -4.23708801e-01]\n",
      " [ 5.35616992e-01 -2.05053665e-01  8.19187055e-01]\n",
      " [ 5.67827502e-01  5.90745382e-01 -5.73229293e-01]\n",
      " [ 1.22084567e-01  9.87890125e-01 -9.57520764e-02]\n",
      " [-2.73495537e-01 -4.25964395e-01  8.62412039e-01]\n",
      " [ 2.09772625e-01  2.30461428e-01 -9.50201545e-01]\n",
      " [ 1.58837105e-01  9.66607694e-01  2.01097835e-01]\n",
      " [-3.88074396e-01 -1.97311921e-01  9.00259001e-01]\n",
      " [ 4.07868659e-01  7.36679719e-01 -5.39394242e-01]\n",
      " [ 2.00178682e-01 -9.74947899e-01  9.69798385e-02]\n",
      " [ 3.57942498e-01 -4.49814473e-01  8.18256750e-01]\n",
      " [ 6.64362391e-01  1.42702455e-01 -7.33661108e-01]\n",
      " [-9.77963996e-01 -2.03454729e-01  4.68251613e-02]\n",
      " [ 2.51653727e-01 -8.28160619e-01  5.00819718e-01]\n",
      " [ 9.29678500e-01 -1.46410331e-01  3.38026482e-01]\n",
      " [-1.51515639e-01  9.86348569e-01 -6.44942805e-02]\n",
      " [ 3.92852148e-01  7.05131869e-01 -5.90301819e-01]\n",
      " [ 7.14501409e-01 -6.99390207e-01 -1.84682218e-02]\n",
      " [ 8.13691959e-01 -5.22266910e-01 -2.55230621e-01]\n",
      " [ 3.23391079e-01  9.45185368e-01 -4.51976903e-02]\n",
      " [-8.99074734e-01  3.46010214e-01 -2.68219228e-01]\n",
      " [-1.41601152e-01 -7.23322079e-01  6.75835989e-01]\n",
      " [ 4.75569628e-01 -6.96525375e-01  5.37295013e-01]\n",
      " [ 4.55965654e-01  8.08519265e-01 -3.72010646e-01]\n",
      " [-5.03809040e-01 -8.51515529e-01  1.45250665e-01]\n",
      " [ 3.17797891e-01 -8.35696348e-01 -4.47901903e-01]\n",
      " [-9.47368234e-01 -3.05938349e-01 -9.43141349e-02]\n",
      " [ 4.88001621e-01  8.21822958e-01 -2.94043268e-01]\n",
      " [ 9.25606516e-01  2.10129041e-01  3.14798926e-01]\n",
      " [-1.90106621e-01  9.46902374e-01 -2.59297834e-01]\n",
      " [ 3.54461269e-01 -9.31484660e-01 -8.18140442e-02]\n",
      " [ 8.63343693e-01  2.49450165e-01  4.38648245e-01]\n",
      " [ 9.83430775e-01  5.08155769e-02 -1.74016342e-01]\n",
      " [-3.75825000e-01  4.45012443e-01  8.12846538e-01]\n",
      " [ 7.08486946e-01  2.99335225e-01 -6.39096762e-01]\n",
      " [ 5.17208471e-01  7.07065877e-01  4.82237746e-01]\n",
      " [ 9.77406557e-01  1.43433835e-01 -1.55251913e-01]\n",
      " [-9.77215812e-01 -1.53012906e-01 -1.47092855e-01]\n",
      " [-3.16599641e-01 -9.09688337e-01  2.68759737e-01]\n",
      " [-8.95848225e-01  4.41992286e-01  4.58124021e-02]\n",
      " [ 6.53652359e-01  7.37401523e-01 -1.70228043e-01]\n",
      " [-3.69324452e-02  6.58435478e-02 -9.97146239e-01]\n",
      " [-4.88015042e-01 -3.11193412e-01 -8.15475308e-01]\n",
      " [ 8.45696735e-01 -3.30776335e-01  4.18788787e-01]\n",
      " [ 9.97722070e-01 -4.66887458e-02  4.86911935e-02]\n",
      " [ 4.85080304e-02  9.18548453e-01  3.92320927e-01]\n",
      " [ 4.11635088e-01  2.74040328e-02  9.10936646e-01]\n",
      " [ 4.51637366e-01 -8.13752897e-01  3.65827709e-01]\n",
      " [ 4.01731140e-01 -1.99590137e-01 -8.93742619e-01]\n",
      " [-8.92959226e-01  2.37643927e-01 -3.82294630e-01]\n",
      " [ 1.31995685e-01 -9.73797738e-01  1.85189375e-01]\n",
      " [ 5.65667455e-01 -6.31961656e-01 -5.29759185e-01]\n",
      " [-2.83888976e-01 -2.33698369e-01  9.29941999e-01]\n",
      " [ 3.17439169e-01 -3.27048449e-01  8.90096448e-01]\n",
      " [ 7.09189592e-01  1.07319279e-01  6.96801762e-01]\n",
      " [-1.35063418e-01  9.89289659e-01 -5.53520074e-02]\n",
      " [-1.24319619e-01  7.19805005e-01  6.82953430e-01]\n",
      " [ 4.90244803e-01  4.64050213e-01 -7.37778715e-01]\n",
      " [ 7.82321448e-01 -4.91570846e-01 -3.82532685e-01]\n",
      " [ 9.79074047e-01  1.89570417e-01 -7.40072117e-02]\n",
      " [-4.09252828e-01 -7.73661327e-01  4.83694401e-01]\n",
      " [ 9.00848818e-01  4.33206314e-01 -2.83495426e-02]\n",
      " [-4.40778559e-01  5.27521042e-01 -7.26247762e-01]\n",
      " [-8.26773225e-01  4.67464185e-01 -3.12926941e-01]\n",
      " [ 3.91175025e-01  8.50692318e-01 -3.51147661e-01]\n",
      " [-9.08899778e-01 -1.20709315e-01 -3.99162191e-01]\n",
      " [-7.25373091e-01 -1.62100669e-01 -6.68997199e-01]\n",
      " [-4.02934906e-01  8.99264493e-01 -1.70196455e-01]\n",
      " [-8.06017406e-02 -9.91331173e-01 -1.03758685e-01]\n",
      " [ 4.46676586e-01  7.05832247e-01  5.49800752e-01]\n",
      " [ 2.84636797e-01  7.53387087e-01  5.92781402e-01]\n",
      " [-6.09864128e-01  7.91239833e-01  4.47802560e-02]\n",
      " [-7.19704859e-01  6.89800712e-01 -7.87394077e-02]\n",
      " [ 2.25358710e-01  7.99751349e-01  5.56427203e-01]\n",
      " [ 5.51755746e-01 -3.09183874e-01  7.74577904e-01]\n",
      " [ 4.41446190e-01 -8.26280193e-01  3.49837540e-01]\n",
      " [ 6.25735055e-01  4.97297703e-01  6.00958098e-01]\n",
      " [-3.26258138e-01  3.49686293e-01  8.78222707e-01]\n",
      " [ 4.29211220e-02  3.92644159e-01 -9.18688381e-01]\n",
      " [-6.28980593e-01  1.99665806e-01  7.51343450e-01]\n",
      " [-1.47253567e-01  8.82394552e-01 -4.46873855e-01]\n",
      " [-9.98760221e-01 -1.13394437e-02 -4.84710012e-02]\n",
      " [ 7.11514271e-01 -3.76137183e-01  5.93521914e-01]\n",
      " [-6.66212860e-01  6.06121832e-01  4.34484465e-01]\n",
      " [-4.15987030e-01 -5.73528942e-01 -7.05704856e-01]\n",
      " [-7.82200921e-01 -5.36057535e-01  3.17496518e-01]]\n",
      "1.0000000000000002\n"
     ]
    },
    {
     "data": {
      "text/plain": [
       "1.0000000000000002"
      ]
     },
     "execution_count": 5,
     "metadata": {},
     "output_type": "execute_result"
    }
   ],
   "source": [
    "np.random.seed(7)\n",
    "n_stars = 100\n",
    "npair = n_stars*(n_stars -1)/2\n",
    "theta = np.arccos(np.random.uniform(-1,1,n_stars))\n",
    "phi = np.random.uniform(0,2*np.pi,n_stars)\n",
    "#theta = np.random.uniform(0.1, np.pi, n_stars)  # colatitude E[0, pi]\n",
    "#phi = np.random.uniform(0.1, 2*np.pi, n_stars) # longitude [0, 2pi]\n",
    "\n",
    "n1=np.array(skyvec(theta, phi)).T#.reshape(n_stars,3)\n",
    "n2=np.array(skyvec(theta, phi)).T#.reshape(n_stars,3)\n",
    "#n1[7]\n",
    "\n",
    "#print(n1)\n",
    "#print(n2[1])\n",
    "print(n2)\n",
    "#print(n1)\n",
    "print(np.dot(n1[2],n1[2]))\n",
    "np.dot(n1[1],n1[1])"
   ]
  },
  {
   "cell_type": "code",
   "execution_count": 6,
   "id": "dbbb08c0-fe98-4aa8-ad20-c283834defe6",
   "metadata": {},
   "outputs": [],
   "source": [
    "# Note that alpha and gamma give scalars as result.\n",
    "\n",
    "def hola(y):\n",
    "    if y==0:\n",
    "        hola=0\n",
    "    else:\n",
    "        hola= y*np.log(y)\n",
    "    #if y<0:\n",
    "    #    hola= y*np.log(np.abs(y))\n",
    "    return hola\n",
    "#print(hola(-5))\n",
    "\n",
    "def alpha(v,n1,n2):\n",
    "    cos_zeta = np.dot(n1,n2)\n",
    "    y = (1- cos_zeta)/2\n",
    "    n1v = np.dot(n1,v)\n",
    "    n2v = np.dot(n2,v)\n",
    "    num = -np.pi*(2*y-1)*(n1v-n2v)*(n1v+n2v)*((y-1)*(2*y+1) - 3*hola(1/2- np.dot(n1,n2)/2))\n",
    "    den = 6*n1v*(y-1)**3\n",
    "    return num/den\n",
    "\n",
    "def gamma(v,n1,n2):\n",
    "    y = (1-np.dot(n1,n2))/2\n",
    "    n1v = np.dot(n1,v)\n",
    "    n2v = np.dot(n2,v)\n",
    "    num = np.pi*y*(n1v+n2v)*((y-1)*(2*y+1) - 3*hola(y))\n",
    "    den = 3*n1v*((y-1)**2)\n",
    "    return num/den\n",
    "\n",
    "I_3 = np.eye(3)\n",
    "def delta_ij(i, j):\n",
    "    return 1 if i == j else 0\n",
    "\n",
    "def GTanalytic_Hij_1(v, n1, n2):\n",
    "    y = (1-np.dot(n1,n2))/2 # change to zeta if phi is not 0.\n",
    "    n1v = np.dot(n1,v)\n",
    "    n2v = np.dot(n2,v)\n",
    "    alph = alpha(v,n1,n2)\n",
    "    gamm = gamma(v,n1,n2)\n",
    "    t1 = I_3 * (alph*(2*y+1/(1-2*y) - 1) -2*gamm*n2v)\n",
    "    t2 = np.outer(n1, n1)*( alph/(2*y-1) + 2*gamm*n2v) +alph*(np.outer(n1, n2)+np.outer(n2, n1))\n",
    "    t3 = np.outer(n2, n2)*alph/(2*y-1) + 2*gamm*(2*y-1)*np.outer(n1, v) + 2*gamm*np.outer(n2, v)\n",
    "    return t1+t2+t3 #alpha*coeff_alpha/(2*y-1) + 2*beta*coeff_beta"
   ]
  },
  {
   "cell_type": "markdown",
   "id": "7929dfe7-5859-455c-a2a0-f5e50c32b6ce",
   "metadata": {},
   "source": [
    "## Changing the color of the map according to a function"
   ]
  },
  {
   "cell_type": "code",
   "execution_count": 26,
   "id": "0fa94f95-5884-4a96-9f6f-9295e2303611",
   "metadata": {},
   "outputs": [
    {
     "name": "stdout",
     "output_type": "stream",
     "text": [
      "[[-7.06953313e-01  7.06953313e-01  2.08333333e-02]\n",
      " [-7.40790311e-01  6.71413201e-01  2.08333333e-02]\n",
      " [-7.72842681e-01  6.34255597e-01  2.08333333e-02]\n",
      " [-8.03033205e-01  5.95570015e-01  2.08333333e-02]\n",
      " [-8.31289152e-01  5.55449653e-01  2.08333333e-02]\n",
      " [-8.57542451e-01  5.13991165e-01  2.08333333e-02]\n",
      " [-8.81729854e-01  4.71294426e-01  2.08333333e-02]\n",
      " [-9.03793094e-01  4.27462298e-01  2.08333333e-02]\n",
      " [-9.23679016e-01  3.82600376e-01  2.08333333e-02]\n",
      " [-9.41339715e-01  3.36816736e-01  2.08333333e-02]\n",
      " [-9.56732644e-01  2.90221675e-01  2.08333333e-02]\n",
      " [-9.69820720e-01  2.42927444e-01  2.08333333e-02]\n",
      " [-9.80572413e-01  1.95047980e-01  2.08333333e-02]\n",
      " [-9.88961822e-01  1.46698628e-01  2.08333333e-02]\n",
      " [-9.94968734e-01  9.79958669e-02  2.08333333e-02]\n",
      " [-9.98578680e-01  4.90570248e-02  2.08333333e-02]\n",
      " [-9.99782963e-01  1.22438100e-16  2.08333333e-02]\n",
      " [-9.98578680e-01 -4.90570248e-02  2.08333333e-02]\n",
      " [-9.94968734e-01 -9.79958669e-02  2.08333333e-02]\n",
      " [-9.88961822e-01 -1.46698628e-01  2.08333333e-02]]\n",
      "12288\n"
     ]
    }
   ],
   "source": [
    "nside = 32\n",
    "npix = hp.nside2npix(nside)\n",
    "\n",
    "#frame velocity \n",
    "vtheta, vphi = hp.pix2ang(nside, np.arange(npix))\n",
    "vdir = skyvec(vtheta,vphi)#.reshape(npix,3) #np.column_stack(skyvec(vtheta,vphi))\n",
    "\n",
    "#stheta, sphi = hp.pix2ang(nside, np.arange(npix))\n",
    "#n1_pix = skyvec(stheta,sphi).T#.reshape(npix,3)\n",
    "\n",
    "#vdir[3000]\n",
    "print(vdir.T[6000:6020])\n",
    "print(npix)\n",
    "#print(np.outer(vdir[200],n1[1]))\n",
    "#print(np.outer(vdir[200],n1[1])[2,1])\n",
    "\n",
    "# Defined to save the results\n",
    "#Hij_1 = np.zeros(npix)\n",
    "#print(Hij_1)"
   ]
  },
  {
   "cell_type": "code",
   "execution_count": 27,
   "id": "cd5362e1-f1ff-4895-98cc-21a4965bb41b",
   "metadata": {},
   "outputs": [],
   "source": [
    "H1_00 = np.zeros(npix)\n",
    "\n",
    "#for k in range(npix):\n",
    "    #for i in range(3):\n",
    "        #for j in range(3):\n",
    "for strpair in itertools.combinations(np.arange(n_stars),2):\n",
    "                idx_p,idx_q = strpair\n",
    "                I_3= delta_ij(0, 0)\n",
    "                v= vdir #skyvec(v_theta,v_phi) #vdir#[k]\n",
    "                p= n1[idx_p]\n",
    "                q= n2[idx_q]\n",
    "                y = (1-np.dot(p,q))/2\n",
    "                n1v = np.dot(p,v)\n",
    "                n2v = np.dot(q,v)\n",
    "                alph = alpha(v,p,q)\n",
    "                gamm = gamma(v,p,q)\n",
    "                t1 = I_3 * (alph*(2*y+1/(1-2*y) - 1) -2*gamm*n2v)\n",
    "                t2 = np.outer(p, p)[0,0]*(alph/(2*y-1) + 2*gamm*n2v) +alph*(np.outer(p, q)[0,0]+np.outer(q, p)[0,0])\n",
    "                t3 = np.outer(q, q)[0,0]*alph/(2*y-1) + 2*gamm*(2*y-1)*np.outer(p, v)[0,0] + 2*gamm*np.outer(q, v)[0,0]\n",
    "                GT = t1+t2+t3\n",
    "                H1_00+= GT"
   ]
  },
  {
   "cell_type": "code",
   "execution_count": 123,
   "id": "eae9d6db-009d-411c-97f8-cf3e4779d956",
   "metadata": {},
   "outputs": [],
   "source": [
    "H1_11 = np.zeros(npix)\n",
    "\n",
    "#for k in range(npix):\n",
    "    #for i in range(3):\n",
    "        #for j in range(3):\n",
    "for strpair in itertools.combinations(np.arange(n_stars),2):\n",
    "                idx_p,idx_q = strpair\n",
    "                I_3= delta_ij(1, 1)\n",
    "                v= vdir#[k]#skyvec(v_theta,v_phi) #\n",
    "                p= n1[idx_p]\n",
    "                q= n2[idx_q]\n",
    "                y = (1-np.dot(p,q))/2\n",
    "                n1v = np.dot(p,v)\n",
    "                n2v = np.dot(q,v)\n",
    "                alph = alpha(v,p,q)\n",
    "                gamm = gamma(v,p,q)\n",
    "                t1 = I_3 * (alph*(2*y+1/(1-2*y) - 1) -2*gamm*n2v)\n",
    "                t2 = np.outer(p, p)[1,1]*(alph/(2*y-1) + 2*gamm*n2v) +alph*(np.outer(p, q)[1,1]+np.outer(q, p)[1,1])\n",
    "                t3 = np.outer(q, q)[1,1]*alph/(2*y-1) + 2*gamm*(2*y-1)*np.outer(p, v)[1,1] + 2*gamm*np.outer(q, v)[1,1]\n",
    "                GT = t1+t2+t3\n",
    "                H1_11+= GT"
   ]
  },
  {
   "cell_type": "code",
   "execution_count": 124,
   "id": "f5dbd0d7-e4ca-4bf8-81f7-a5cfd36d692a",
   "metadata": {},
   "outputs": [],
   "source": [
    "H1_22 = np.zeros(npix)\n",
    "\n",
    "for strpair in itertools.combinations(np.arange(n_stars),2):\n",
    "                idx_p,idx_q = strpair\n",
    "                I_3= delta_ij(2, 2)\n",
    "                v= vdir#[k]skyvec(v_theta,v_phi) #vdir#[k]\n",
    "                p= n1[idx_p]\n",
    "                q= n2[idx_q]\n",
    "                y = (1-np.dot(p,q))/2\n",
    "                n1v = np.dot(p,v)\n",
    "                n2v = np.dot(q,v)\n",
    "                alph = alpha(v,p,q)\n",
    "                gamm = gamma(v,p,q)\n",
    "                t1 = I_3 * (alph*(2*y+1/(1-2*y) - 1) -2*gamm*n2v)\n",
    "                t2 = np.outer(p, p)[2,2]*(alph/(2*y-1) + 2*gamm*n2v) +alph*(np.outer(p, q)[2,2]+np.outer(q, p)[2,2])\n",
    "                t3 = np.outer(q, q)[2,2]*alph/(2*y-1) + 2*gamm*(2*y-1)*np.outer(p, v)[2,2] + 2*gamm*np.outer(q, v)[2,2]\n",
    "                GT = t1+t2+t3\n",
    "                H1_22+= GT"
   ]
  },
  {
   "cell_type": "code",
   "execution_count": 125,
   "id": "8c3c05e1-b25c-4d87-ad18-bacbbd846d9f",
   "metadata": {},
   "outputs": [
    {
     "name": "stdout",
     "output_type": "stream",
     "text": [
      "[ 418.17370286  111.62307594 -146.93890204 ...   95.7587406  -423.10243441\n",
      " -115.37209069]\n",
      "[ 2460.81063868   184.21513682 -1224.17039865 ...   536.03620499\n",
      " -2380.58491601  -182.25883909]\n"
     ]
    }
   ],
   "source": [
    "print(H1_00)\n",
    "#H1_ij.shape\n",
    "\n",
    "H1_jj= H1_00 + H1_11 + H1_22\n",
    "print(H1_jj)"
   ]
  },
  {
   "cell_type": "code",
   "execution_count": 137,
   "id": "96b3c938-3f5c-45c8-9ab2-c3d5df9ec6d4",
   "metadata": {},
   "outputs": [
    {
     "name": "stdout",
     "output_type": "stream",
     "text": [
      "Number of stars: 100\n",
      "Number of pairs: 4950.0\n",
      "Number of pixels: 12288\n"
     ]
    },
    {
     "data": {
      "image/png": "[encoded data removed]",
      "text/plain": [
       "<Figure size 850x540 with 2 Axes>"
      ]
     },
     "metadata": {},
     "output_type": "display_data"
    }
   ],
   "source": [
    "#m = np.arange(len(resultsH0))\n",
    "print('Number of stars:',n_stars)\n",
    "print('Number of pairs:',npair)\n",
    "print('Number of pixels:',npix)\n",
    "hp.mollview(abs(H1_jj)/npair,title='H_ii(v,p,q)', cmap='RdGy', coord=['E','G'])"
   ]
  },
  {
   "cell_type": "code",
   "execution_count": null,
   "id": "5d31b1a7-a498-4aaf-9899-f493a04a5f89",
   "metadata": {},
   "outputs": [],
   "source": []
  },
  {
   "cell_type": "code",
   "execution_count": 12,
   "id": "47570826-9111-4ab9-a245-d3a758d47fdc",
   "metadata": {},
   "outputs": [
    {
     "ename": "ValueError",
     "evalue": "shapes (3,) and (12288,) not aligned: 3 (dim 0) != 12288 (dim 0)",
     "output_type": "error",
     "traceback": [
      "\u001b[0;31m---------------------------------------------------------------------------\u001b[0m",
      "\u001b[0;31mValueError\u001b[0m                                Traceback (most recent call last)",
      "Cell \u001b[0;32mIn[12], line 14\u001b[0m\n\u001b[1;32m     12\u001b[0m q\u001b[38;5;241m=\u001b[39m n2[n]\n\u001b[1;32m     13\u001b[0m y \u001b[38;5;241m=\u001b[39m (\u001b[38;5;241m1\u001b[39m\u001b[38;5;241m-\u001b[39mnp\u001b[38;5;241m.\u001b[39mdot(p,q))\u001b[38;5;241m/\u001b[39m\u001b[38;5;241m2\u001b[39m\n\u001b[0;32m---> 14\u001b[0m n1v \u001b[38;5;241m=\u001b[39m \u001b[43mnp\u001b[49m\u001b[38;5;241;43m.\u001b[39;49m\u001b[43mdot\u001b[49m\u001b[43m(\u001b[49m\u001b[43mp\u001b[49m\u001b[43m,\u001b[49m\u001b[43mv\u001b[49m\u001b[43m)\u001b[49m\n\u001b[1;32m     15\u001b[0m n2v \u001b[38;5;241m=\u001b[39m np\u001b[38;5;241m.\u001b[39mdot(q,v)\n\u001b[1;32m     16\u001b[0m alph \u001b[38;5;241m=\u001b[39m alpha(v,p,q)\n",
      "\u001b[0;31mValueError\u001b[0m: shapes (3,) and (12288,) not aligned: 3 (dim 0) != 12288 (dim 0)"
     ]
    }
   ],
   "source": [
    "# Defined to save the results\n",
    "Hij_1f = np.zeros(npix)\n",
    "\n",
    "for k in range(npix):\n",
    "    for m in range(n_stars):\n",
    "        for n in range(n_stars):\n",
    "            for i in range(3):\n",
    "                for j in range(3):\n",
    "                    I_3= delta_ij(i, j)\n",
    "                    v= vdir[k]\n",
    "                    p= n1[m]\n",
    "                    q= n2[n]\n",
    "                    y = (1-np.dot(p,q))/2\n",
    "                    n1v = np.dot(p,v)\n",
    "                    n2v = np.dot(q,v)\n",
    "                    alph = alpha(v,p,q)\n",
    "                    gamm = gamma(v,p,q)\n",
    "                    t1 = I_3 * (alph*(2*y+1/(1-2*y) - 1) -2*gamm*n2v)\n",
    "                    t2 = np.outer(p, p)[i,j]*(alph/(2*y-1) + 2*gamm*n2v) +alph*(np.outer(p, q)[i,j]+np.outer(q, p)[i,j])\n",
    "                    t3 = np.outer(q, q)[i,j]*alph/(2*y-1) + 2*gamm*(2*y-1)*np.outer(p, v)[i,j] + 2*gamm*np.outer(q, v)[i,j]\n",
    "                    Hij_1f += t1+t2+t3"
   ]
  },
  {
   "cell_type": "code",
   "execution_count": null,
   "id": "3c139347-63a7-4eae-90c1-345f08e903f1",
   "metadata": {},
   "outputs": [],
   "source": [
    "print(Hij_1f)"
   ]
  },
  {
   "cell_type": "code",
   "execution_count": null,
   "id": "80ce9034-49bf-4513-ad34-9fa3d698ea17",
   "metadata": {},
   "outputs": [],
   "source": [
    "H12_1 = np.zeros(npix)\n",
    "\n",
    "for k in range(npix):\n",
    "    #for strpair in itertools.combinations(np.arange(n_stars),2):\n",
    "    for l in range(n_stars):\n",
    "        #idx_p,idx_q = strpair\n",
    "        I_3= delta_ij(1, 2)\n",
    "        v= vdir[k]\n",
    "        p= [2,5,1] #n1[idx_p]\n",
    "        q= n2[l] #[1,3,4] #\n",
    "        y = (1-np.dot(p,q))/2\n",
    "        n1v = np.dot(p,v)\n",
    "        n2v = np.dot(q,v)\n",
    "        alph = alpha(v,p,q)\n",
    "        gamm = gamma(v,p,q)\n",
    "        t1 = I_3 * (alph*(2*y+1/(1-2*y) - 1) -2*gamm*n2v)\n",
    "        t2 = np.outer(p, p)[1,2]*(alph/(2*y-1) + 2*gamm*n2v) +alph*(np.outer(p, q)[1,2]+np.outer(q, p)[1,2])\n",
    "        t3 = np.outer(q, q)[1,2]*alph/(2*y-1) + 2*gamm*(2*y-1)*np.outer(p, v)[1,2] + 2*gamm*np.outer(q, v)[1,2]\n",
    "        H12_1+= t1+t2+t3"
   ]
  },
  {
   "cell_type": "code",
   "execution_count": null,
   "id": "f8f74e43-ab60-4743-9999-22dad045ead9",
   "metadata": {},
   "outputs": [],
   "source": []
  }
 ],
 "metadata": {
  "kernelspec": {
   "display_name": "Python 3 (ipykernel)",
   "language": "python",
   "name": "python3"
  },
  "language_info": {
   "codemirror_mode": {
    "name": "ipython",
    "version": 3
   },
   "file_extension": ".py",
   "mimetype": "text/x-python",
   "name": "python",
   "nbconvert_exporter": "python",
   "pygments_lexer": "ipython3",
   "version": "3.11.9"
  }
 },
 "nbformat": 4,
 "nbformat_minor": 5
}
