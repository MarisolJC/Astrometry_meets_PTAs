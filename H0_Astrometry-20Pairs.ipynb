{
 "cells": [
  {
   "cell_type": "markdown",
   "id": "445411bf-c87c-41a4-9ba7-36e3a669d645",
   "metadata": {},
   "source": [
    "# Maps for a single direction $v$"
   ]
  },
  {
   "cell_type": "code",
   "execution_count": 18,
   "id": "ab3bccf6-46be-4d56-ba4e-db76d2f1837e",
   "metadata": {},
   "outputs": [],
   "source": [
    "import numpy as np\n",
    "import matplotlib\n",
    "from matplotlib import colormaps\n",
    "import matplotlib.pyplot as plt\n",
    "import healpy as hp\n",
    "import itertools\n",
    "#font = {'family' : 'Latin Modern Roman',\n",
    "#        'weight' : 'bold',\n",
    "#        'size'   : 16}\n",
    "#matplotlib.rc('font',**font)"
   ]
  },
  {
   "cell_type": "markdown",
   "id": "7929dfe7-5859-455c-a2a0-f5e50c32b6ce",
   "metadata": {},
   "source": [
    "## Changing the color of the map according to a function"
   ]
  },
  {
   "cell_type": "code",
   "execution_count": 19,
   "id": "ddafabd3-bb5f-4c0e-bc90-aff424d1f23f",
   "metadata": {},
   "outputs": [],
   "source": [
    "# unit vector in R3. \n",
    "# Given two angles, \\theta E[0,pi] and \\phi E[0,2pi], the next function retuns its cartesian coordinates\n",
    "def skyvec(theta,phi): \n",
    "    st = np.sin(theta)\n",
    "    cp = np.cos(phi)\n",
    "    sp = np.sin(phi)\n",
    "    ct = np.cos(theta)\n",
    "    return np.array([st*cp,st*sp,ct])"
   ]
  },
  {
   "cell_type": "code",
   "execution_count": 20,
   "id": "7bc178fa-6f9d-45dd-bf2d-60ba6e450e31",
   "metadata": {},
   "outputs": [
    {
     "name": "stdout",
     "output_type": "stream",
     "text": [
      "[0.51408773 0.08588445 0.69682648]\n"
     ]
    }
   ],
   "source": [
    "np.random.seed(42)\n",
    "n_stars = 4\n",
    "npair = n_stars*(n_stars -1)/2\n",
    "theta = np.random.uniform(0, np.pi, n_stars)  # colatitude E[0, pi]\n",
    "phi = np.random.uniform(0, 2*np.pi, n_stars) # longitude [0, 2pi]\n",
    "\n",
    "n1=[1,2,3]\n",
    "n2= np.array(skyvec(theta, phi)).reshape(n_stars,3)\n",
    "#n1[7]\n",
    "\n",
    "#print(n2)\n",
    "print(n2[0])\n",
    "#print(npair)"
   ]
  },
  {
   "cell_type": "code",
   "execution_count": 22,
   "id": "dbbb08c0-fe98-4aa8-ad20-c283834defe6",
   "metadata": {},
   "outputs": [],
   "source": [
    "# Note that alpha and gamma give scalars as result.\n",
    "def alpha(v,n1,n2):\n",
    "    cos_zeta = np.dot(n1,n2)\n",
    "    y = (1- cos_zeta)/2\n",
    "    n1v = np.dot(n1,v)\n",
    "    n2v = np.dot(n2,v)\n",
    "    num = -np.pi*(2*y-1)*(n1v-n2v)*(n1v+n2v)*((y-1)*(2*y+1) - 3*y*np.log(y))\n",
    "    den = 6*n1v*(y-1)**3\n",
    "    return num/den\n",
    "\n",
    "def gamma(v,n1,n2):\n",
    "    y = (1-np.dot(n1,n2))/2\n",
    "    n1v = np.dot(n1,v)\n",
    "    n2v = np.dot(n2,v)\n",
    "    num = np.pi*y*(n1v+n2v)*((y-1)*(2*y+1) - 3*y*np.log(y))\n",
    "    den = 3*n1v*((y-1)**2)\n",
    "    return num/den\n",
    "\n",
    "def delta_ij(i, j):\n",
    "    return 1 if i == j else 0\n",
    "\n",
    "def GTanalytic_Hij_1(v, n1, n2):\n",
    "    y = (1-np.dot(n1,n2))/2 # change to zeta if phi is not 0.\n",
    "    n1v = np.dot(n1,v)\n",
    "    n2v = np.dot(n2,v)\n",
    "    alph = alpha(v,n1,n2)\n",
    "    gamm = gamma(v,n1,n2)\n",
    "    t1 = I_3 * (alph*(2*y+1/(1-2*y) - 1) -2*gamm*n2v)\n",
    "    t2 = np.outer(n1, n1)*( alph/(2*y-1) + 2*gamm*n2v) +alph*(np.outer(n1, n2)+np.outer(n2, n1))\n",
    "    t3 = np.outer(n2, n2)*alph/(2*y-1) + 2*gamm*(2*y-1)*np.outer(n1, v) + 2*gamm*np.outer(n2, v)\n",
    "    return t1+t2+t3 #alpha*coeff_alpha/(2*y-1) + 2*beta*coeff_beta"
   ]
  },
  {
   "cell_type": "code",
   "execution_count": 23,
   "id": "2c339de4-f32c-4fcb-b540-bf5bfdc76490",
   "metadata": {},
   "outputs": [],
   "source": [
    "# Going from ecliptic coordinates to spherical ones.\n",
    "# Velocity with respect to the cosmic frame (in galactic coordinates(l, b) = (264◦, 48◦)):\n",
    "v_theta = (np.pi/2)-np.radians(-7.145) # (pi/2 - Declination) E[0,pi]\n",
    "v_phi = np.radians(167.78) # Right Ascension E[0,2pi]"
   ]
  },
  {
   "cell_type": "code",
   "execution_count": 24,
   "id": "0fa94f95-5884-4a96-9f6f-9295e2303611",
   "metadata": {},
   "outputs": [],
   "source": [
    "nside = 32\n",
    "npix = hp.nside2npix(nside)\n",
    "\n",
    "#frame velocity \n",
    "vtheta, vphi = hp.pix2ang(nside, np.arange(npix))\n",
    "vdir = skyvec(vtheta,vphi).reshape(npix,3) #np.column_stack(skyvec(vtheta,vphi))\n",
    "\n",
    "# Defined to save the results\n",
    "Hij_1f = np.zeros(npix)\n",
    "#print(Hij_1)"
   ]
  },
  {
   "cell_type": "code",
   "execution_count": 28,
   "id": "47570826-9111-4ab9-a245-d3a758d47fdc",
   "metadata": {},
   "outputs": [
    {
     "name": "stderr",
     "output_type": "stream",
     "text": [
      "/var/folders/19/x89tx7bs1ldf399fhwg8hn7w0000gq/T/ipykernel_2046/1862840330.py:7: RuntimeWarning: invalid value encountered in log\n",
      "  num = -np.pi*(2*y-1)*(n1v-n2v)*(n1v+n2v)*((y-1)*(2*y+1) - 3*y*np.log(y))\n",
      "/var/folders/19/x89tx7bs1ldf399fhwg8hn7w0000gq/T/ipykernel_2046/1862840330.py:15: RuntimeWarning: invalid value encountered in log\n",
      "  num = np.pi*y*(n1v+n2v)*((y-1)*(2*y+1) - 3*y*np.log(y))\n"
     ]
    }
   ],
   "source": [
    "for k in range(npix):\n",
    "    #for ns in range(n_stars):\n",
    "    for i in range(3):\n",
    "            for j in range(3):\n",
    "                I_3= delta_ij(i, j)\n",
    "                v= vdir[k]\n",
    "                p= n1\n",
    "                q= [2,6,2]#n2[ns]\n",
    "                y = (1-np.dot(p,q))/2\n",
    "                n1v = np.dot(p,v)\n",
    "                n2v = np.dot(q,v)\n",
    "                alph = alpha(v,p,q)\n",
    "                gamm = gamma(v,p,q)\n",
    "                t1 = I_3 * (alph*(2*y+1/(1-2*y) - 1) -2*gamm*n2v)\n",
    "                t2 = np.outer(p, p)[i,j]*(alph/(2*y-1) + 2*gamm*n2v) +alph*(np.outer(p, q)[i,j]+np.outer(q, p)[i,j])\n",
    "                t3 = np.outer(q, q)[i,j]*alph/(2*y-1) + 2*gamm*(2*y-1)*np.outer(p, v)[i,j] + 2*gamm*np.outer(q, v)[i,j]\n",
    "                Hij_1f += t1+t2+t3"
   ]
  },
  {
   "cell_type": "code",
   "execution_count": 17,
   "id": "3c139347-63a7-4eae-90c1-345f08e903f1",
   "metadata": {},
   "outputs": [
    {
     "name": "stdout",
     "output_type": "stream",
     "text": [
      "[nan nan nan ... nan nan nan]\n"
     ]
    }
   ],
   "source": [
    "print(Hij_1f)"
   ]
  },
  {
   "cell_type": "code",
   "execution_count": 9,
   "id": "96b3c938-3f5c-45c8-9ab2-c3d5df9ec6d4",
   "metadata": {},
   "outputs": [],
   "source": [
    "#m = np.arange(len(resultsH0))\n",
    "#hp.mollview(abs(GTanalytic_Hij_1(vdir, n1, n2=[1,2,3])),title='uniform distribution')"
   ]
  },
  {
   "cell_type": "code",
   "execution_count": null,
   "id": "f8f74e43-ab60-4743-9999-22dad045ead9",
   "metadata": {},
   "outputs": [],
   "source": []
  }
 ],
 "metadata": {
  "kernelspec": {
   "display_name": "Python 3 (ipykernel)",
   "language": "python",
   "name": "python3"
  },
  "language_info": {
   "codemirror_mode": {
    "name": "ipython",
    "version": 3
   },
   "file_extension": ".py",
   "mimetype": "text/x-python",
   "name": "python",
   "nbconvert_exporter": "python",
   "pygments_lexer": "ipython3",
   "version": "3.11.9"
  }
 },
 "nbformat": 4,
 "nbformat_minor": 5
}
