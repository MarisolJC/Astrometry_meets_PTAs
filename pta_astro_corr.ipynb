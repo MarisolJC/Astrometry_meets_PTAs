{
 "cells": [
  {
   "cell_type": "code",
   "execution_count": 1,
   "metadata": {},
   "outputs": [],
   "source": [
    "import healpy as hp\n",
    "import itertools\n",
    "import jax.numpy as jnp\n",
    "from jax import vmap, grad\n",
    "from response import pairwise_monopole, pairwise_dipole, vvec,dir,pulsar_star_pair_monopole, pulsar_star_pair_dipole\n",
    "from jax import config\n",
    "# config.update(\"jax_enable_x64\", True)\n",
    "import numpy as np\n",
    "# plot settings\n",
    "import matplotlib\n",
    "import matplotlib.pyplot as plt\n",
    "np.set_printoptions(precision=4)\n",
    "%matplotlib inline\n",
    "%config InlineBackend.figure_format = 'retina'"
   ]
  },
  {
   "cell_type": "code",
   "execution_count": 2,
   "metadata": {},
   "outputs": [
    {
     "name": "stdout",
     "output_type": "stream",
     "text": [
      "[ 1.9238e-16 -6.3393e-09 -2.9948e+00]\n"
     ]
    }
   ],
   "source": [
    "# set our test vectors\n",
    "\n",
    "theta1 = np.pi/2\n",
    "\n",
    "theta2 = np.pi/4\n",
    "\n",
    "nvec = dir(theta1,0)\n",
    "\n",
    "xvec = dir(theta2,0)\n",
    "\n",
    "nside = 64\n",
    "npix = hp.nside2npix(nside)\n",
    "pix = np.arange(npix)\n",
    "pvec_array = np.array(hp.pix2vec(nside,pix)).T\n",
    "\n",
    "mono = pulsar_star_pair_monopole(nvec,xvec,pvec_array,nside)\n",
    "\n",
    "print(mono)"
   ]
  },
  {
   "cell_type": "code",
   "execution_count": 3,
   "metadata": {},
   "outputs": [
    {
     "name": "stdout",
     "output_type": "stream",
     "text": [
      "[ 0.     0.    -2.995]\n",
      "Ratio Monopole =  [ 0.     -0.      1.0001]\n"
     ]
    }
   ],
   "source": [
    "# analytic from GT\n",
    "\n",
    "def monopole_GT(nvec,xvec):\n",
    "    const = 16*np.pi/3\n",
    "    ndotx = jnp.sum(nvec*xvec)\n",
    "    y = 0.5*(1-ndotx)\n",
    "    fy = (2*y - 2*y**2 + 3*y**2*jnp.log(y))\n",
    "    mid = (ndotx*nvec -  xvec)/(1 - ndotx**2)\n",
    "    return const * mid * fy\n",
    "\n",
    "print(monopole_GT(nvec,xvec))\n",
    "\n",
    "print(\"Ratio Monopole = \",monopole_GT(nvec,xvec) / mono)"
   ]
  },
  {
   "cell_type": "code",
   "execution_count": 4,
   "metadata": {},
   "outputs": [
    {
     "name": "stdout",
     "output_type": "stream",
     "text": [
      "Numerical dipole =  [ 2.3170e-17 -9.4997e-01 -5.4799e-01]\n",
      "Analytical dipole =  [0.     0.2445 0.8182]\n",
      "Ratio =  [ 0.     -0.2574 -1.4931]\n"
     ]
    }
   ],
   "source": [
    "theta0 = np.deg2rad(48) \n",
    "phi0 = np.deg2rad(264)\n",
    "vvec = dir(theta0,phi0)\n",
    "pi = np.pi\n",
    "\n",
    "nside = 64\n",
    "\n",
    "theta1 = np.pi/2\n",
    "\n",
    "theta2 = np.pi/6\n",
    "\n",
    "nvec = dir(theta1,0)\n",
    "\n",
    "xvec = dir(theta2,0)\n",
    "\n",
    "dipole = pulsar_star_pair_dipole(nvec,xvec,pvec_array,nside)\n",
    "\n",
    "print(\"Numerical dipole = \",dipole)\n",
    "\n",
    "def dipole_GT(nvec,xvec,vvec=vvec):\n",
    "    ndotx = jnp.sum(nvec*xvec)\n",
    "    y = 0.5*(1-ndotx)\n",
    "    ndotv = jnp.sum(nvec*vvec)\n",
    "    xdotv = jnp.sum(xvec*vvec)\n",
    "\n",
    "    def get_c1():\n",
    "        den = y-1\n",
    "        num_t1 =1/6 *  pi*( (y*(12*(y-1)*y-5)-4)*(ndotv*(2*y-1) + xdotv) + 36*ndotv*jnp.sqrt(2-2*y)*y**3)\n",
    "        num_t2 =1/6 * (34*y + 8)*pi*ndotv*jnp.sqrt(2-2*y)*y #There was a -34 instead of +34\n",
    "        num_t3 = 8*pi*y**2*jnp.log(y)*( ndotv*(2*y + jnp.sqrt(2-2*y) -1) + xdotv)\n",
    "        res = (num_t1-num_t2-num_t3)/den\n",
    "        return res\n",
    "\n",
    "    def get_c2():\n",
    "        den_1 = (y-1)**2\n",
    "        den_2 = 6*y*(1-y)\n",
    "        num_1 = 2*pi*y*(ndotv+xdotv)*(ndotv*(2*y-1) + xdotv)*jnp.log(y)\n",
    "        num_2 = pi*(ndotv*(2*y-1) + xdotv) * (ndotv*(8*y**2 + 6*y - 1) +12*xdotv*y**2 + xdotv )\n",
    "        res = num_1/den_1 + num_2/den_2\n",
    "        return res\n",
    "\n",
    "    c1 = get_c1()\n",
    "    c2 = get_c2()\n",
    "\n",
    "    def get_a1():\n",
    "        num = c1*(ndotv**2 - 1) + c2*(xdotv - ndotv*ndotx)\n",
    "        den = ndotv**2 - 2*ndotv*xdotv*ndotx + ndotx**2 + xdotv**2 - 1\n",
    "        return num/den\n",
    "\n",
    "    def get_a2():\n",
    "        num = c1*(xdotv - ndotv*ndotx) + c2*(ndotx**2 - 1)\n",
    "        den = ndotv**2 - 2*ndotv*xdotv*ndotx + ndotx**2 + xdotv**2 - 1\n",
    "        return num/den        \n",
    "\n",
    "    a1 = get_a1()\n",
    "\n",
    "    a2 = get_a2()\n",
    "\n",
    "    K_i = (a1 * (xvec - ndotx*nvec)) + a2 * (vvec - ndotv*nvec)\n",
    "\n",
    "    return K_i\n",
    "\n",
    "print(\"Analytical dipole = \",dipole_GT(nvec,xvec))\n",
    "\n",
    "print(\"Ratio = \",dipole_GT(nvec,xvec) / dipole)"
   ]
  },
  {
   "cell_type": "code",
   "execution_count": 5,
   "metadata": {},
   "outputs": [
    {
     "name": "stdout",
     "output_type": "stream",
     "text": [
      "[-0.0777 -0.7391  0.6691]\n",
      "[-0.0777 -0.7391  0.6691]\n"
     ]
    }
   ],
   "source": [
    "print(vvec)\n",
    "\n",
    "from response import vvec as vcmb\n",
    "\n",
    "print(vcmb)"
   ]
  },
  {
   "cell_type": "code",
   "execution_count": null,
   "metadata": {},
   "outputs": [],
   "source": []
  },
  {
   "cell_type": "code",
   "execution_count": null,
   "metadata": {},
   "outputs": [],
   "source": []
  }
 ],
 "metadata": {
  "kernelspec": {
   "display_name": "Python 3 (ipykernel)",
   "language": "python",
   "name": "python3"
  },
  "language_info": {
   "codemirror_mode": {
    "name": "ipython",
    "version": 3
   },
   "file_extension": ".py",
   "mimetype": "text/x-python",
   "name": "python",
   "nbconvert_exporter": "python",
   "pygments_lexer": "ipython3",
   "version": "3.11.9"
  }
 },
 "nbformat": 4,
 "nbformat_minor": 4
}
