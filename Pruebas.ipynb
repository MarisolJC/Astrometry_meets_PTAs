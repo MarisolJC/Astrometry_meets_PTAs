{
 "cells": [
  {
   "cell_type": "code",
   "execution_count": 1,
   "id": "2ec158b7-3a79-41c6-a4ae-1a83f916f4d6",
   "metadata": {},
   "outputs": [],
   "source": [
    "import numpy as np\n",
    "import matplotlib\n",
    "from matplotlib import colormaps\n",
    "import matplotlib.pyplot as plt\n",
    "import healpy as hp\n",
    "import itertools"
   ]
  },
  {
   "cell_type": "code",
   "execution_count": 2,
   "id": "2a610893-c908-4d3d-82f9-4f09a67325c0",
   "metadata": {},
   "outputs": [],
   "source": [
    "# Set random star positions in spherical coordinates\n",
    "np.random.seed(9)\n",
    "num_stars = 4\n",
    "npair = num_stars*(num_stars-1)/2\n",
    "theta = np.random.uniform(0, np.pi,num_stars)  # colatitude E[0, pi]\n",
    "phi = np.random.uniform(0, 2*np.pi, num_stars) # longitude [0, 2pi]"
   ]
  },
  {
   "cell_type": "code",
   "execution_count": 3,
   "id": "cdfcb93e-c290-4ac8-99c4-4aa3e49c63c5",
   "metadata": {},
   "outputs": [],
   "source": [
    "# unit vector in R3, given two angles, \\theta E[0,pi] and \\phi E[0,2pi]\n",
    "def skyvec(theta,phi): \n",
    "    st = np.sin(theta)\n",
    "    cp = np.cos(phi)\n",
    "    sp = np.sin(phi)\n",
    "    ct = np.cos(theta)\n",
    "    return np.array([st*cp,st*sp,ct])"
   ]
  },
  {
   "cell_type": "code",
   "execution_count": 4,
   "id": "ba981d70-8b03-4c83-adec-e790271f860d",
   "metadata": {},
   "outputs": [
    {
     "name": "stdout",
     "output_type": "stream",
     "text": [
      "12\n"
     ]
    },
    {
     "data": {
      "text/plain": [
       "(12, 12)"
      ]
     },
     "execution_count": 4,
     "metadata": {},
     "output_type": "execute_result"
    }
   ],
   "source": [
    "n1=skyvec(theta,phi)\n",
    "n2=skyvec(theta,phi)\n",
    "#print(np.dot(n1,n2))\n",
    "n1n2=np.outer(n1,n2)\n",
    "print(len(np.outer(n1,n2)))\n",
    "#print(n1n2)\n",
    "n1n2.shape"
   ]
  },
  {
   "cell_type": "code",
   "execution_count": 24,
   "id": "d62ff093-4d9e-42b7-87b9-c5f3655b5dc1",
   "metadata": {},
   "outputs": [
    {
     "name": "stdout",
     "output_type": "stream",
     "text": [
      "Dot (for): [14, 32, 50, 68, 32, 77, 122, 167, 50, 122, 194, 266, 68, 167, 266, 365]\n",
      "Dot (intertools): [32, 50, 68, 122, 167, 266]\n",
      "Outer (numpy): [[  1   2   3   4   5   6   7   8   9  10  11  12]\n",
      " [  2   4   6   8  10  12  14  16  18  20  22  24]\n",
      " [  3   6   9  12  15  18  21  24  27  30  33  36]\n",
      " [  4   8  12  16  20  24  28  32  36  40  44  48]\n",
      " [  5  10  15  20  25  30  35  40  45  50  55  60]\n",
      " [  6  12  18  24  30  36  42  48  54  60  66  72]\n",
      " [  7  14  21  28  35  42  49  56  63  70  77  84]\n",
      " [  8  16  24  32  40  48  56  64  72  80  88  96]\n",
      " [  9  18  27  36  45  54  63  72  81  90  99 108]\n",
      " [ 10  20  30  40  50  60  70  80  90 100 110 120]\n",
      " [ 11  22  33  44  55  66  77  88  99 110 121 132]\n",
      " [ 12  24  36  48  60  72  84  96 108 120 132 144]]\n",
      "Outer (for): [array([[1, 2, 3],\n",
      "       [2, 4, 6],\n",
      "       [3, 6, 9]]), array([[ 4,  5,  6],\n",
      "       [ 8, 10, 12],\n",
      "       [12, 15, 18]]), array([[ 7,  8,  9],\n",
      "       [14, 16, 18],\n",
      "       [21, 24, 27]]), array([[10, 11, 12],\n",
      "       [20, 22, 24],\n",
      "       [30, 33, 36]]), array([[ 4,  8, 12],\n",
      "       [ 5, 10, 15],\n",
      "       [ 6, 12, 18]]), array([[16, 20, 24],\n",
      "       [20, 25, 30],\n",
      "       [24, 30, 36]]), array([[28, 32, 36],\n",
      "       [35, 40, 45],\n",
      "       [42, 48, 54]]), array([[40, 44, 48],\n",
      "       [50, 55, 60],\n",
      "       [60, 66, 72]]), array([[ 7, 14, 21],\n",
      "       [ 8, 16, 24],\n",
      "       [ 9, 18, 27]]), array([[28, 35, 42],\n",
      "       [32, 40, 48],\n",
      "       [36, 45, 54]]), array([[49, 56, 63],\n",
      "       [56, 64, 72],\n",
      "       [63, 72, 81]]), array([[ 70,  77,  84],\n",
      "       [ 80,  88,  96],\n",
      "       [ 90,  99, 108]]), array([[10, 20, 30],\n",
      "       [11, 22, 33],\n",
      "       [12, 24, 36]]), array([[40, 50, 60],\n",
      "       [44, 55, 66],\n",
      "       [48, 60, 72]]), array([[ 70,  80,  90],\n",
      "       [ 77,  88,  99],\n",
      "       [ 84,  96, 108]]), array([[100, 110, 120],\n",
      "       [110, 121, 132],\n",
      "       [120, 132, 144]])]\n",
      "Outer (intertools): [2, 3, 4, 6, 8, 12]\n",
      "(12, 12)\n"
     ]
    }
   ],
   "source": [
    "a=[[1,2,3],[4,5,6],[7,8,9],[10,11,12]]\n",
    "b=[[1,2,3],[4,5,6],[7,8,9],[10,11,12]]\n",
    "#b=[[7,8],[9,10],[11,12]]\n",
    "\n",
    "#dot =np.dot(a,b)\n",
    "out = np.outer(a,b)\n",
    "\n",
    "for_dot=[]\n",
    "for_outer=[]\n",
    "for i in range(4):\n",
    "    for j in range(4):\n",
    "        fdot = np.dot(a[i],b[j])\n",
    "        fouter = np.outer(a[i],b[j])\n",
    "        for_dot.append(fdot)\n",
    "        for_outer.append(fouter)\n",
    "            \n",
    "inter_dot = []\n",
    "inter_outer = []\n",
    "for pair in itertools.combinations(np.arange(4),2):\n",
    "    idx_p,idx_q = pair\n",
    "    A=a[idx_p]\n",
    "    B=b[idx_q]\n",
    "    dot_int = np.dot(A,B)\n",
    "    outer_int = np.outer(np.array(a).flatten(), np.array(b).flatten())[idx_p,idx_q] \n",
    "    inter_dot.append(dot_int)\n",
    "    inter_outer.append(outer_int)\n",
    "    #inter_dot+=dot_int\n",
    "\n",
    "#print('Dot fuction from numpy:', dot)\n",
    "print('Dot (for):', for_dot)\n",
    "print('Dot (intertools):', inter_dot)\n",
    "print('Outer (numpy):', out) \n",
    "print('Outer (for):', for_outer)\n",
    "print('Outer (intertools):', inter_outer)\n",
    "print(out.shape)"
   ]
  },
  {
   "cell_type": "code",
   "execution_count": null,
   "id": "1066df18-15d1-44f6-b5e3-7708af635c6b",
   "metadata": {},
   "outputs": [],
   "source": [
    "np.random.seed(7)\n",
    "ns = 3\n",
    "phi_test = np.random.uniform(0,2*np.pi,ns)\n",
    "theta_test = np.arccos(np.random.uniform(-1,1,ns))\n",
    "p_t=skyvec(theta_test,phi_test)\n",
    "q_t=skyvec(theta_test,phi_test)\n",
    "pq=np.dot(p_t,q_t)\n",
    "\n",
    "results_dot=[]\n",
    "results_outer=[]\n",
    "for pair in itertools.combinations(np.arange(ns),2):\n",
    "    idx_p,idx_q = pair\n",
    "    p=skyvec(theta_test[idx_p],phi_test[idx_p])\n",
    "    q=skyvec(theta_test[idx_q],phi_test[idx_q])\n",
    "    dot = np.dot(p,q)\n",
    "    outer = np.outer(p[idx_p],q[idx_q])\n",
    "    results_dot.append(dot)\n",
    "    results_outer.append(outer)\n",
    "\n",
    "print('p',p)\n",
    "print('q',q)\n",
    "print('pq shape',pq.shape)\n",
    "print('pdotq',pq)\n",
    "print('pq dot (intertools)',results_dot)\n",
    "print('pq outer (intertools)',results_outer)\n",
    "print('pq outer shape',len(results_outer))"
   ]
  },
  {
   "cell_type": "code",
   "execution_count": null,
   "id": "867274f2-0a1c-422f-be01-9f5b391a50ac",
   "metadata": {},
   "outputs": [],
   "source": [
    "np.outer([1,2],[5,6])"
   ]
  },
  {
   "cell_type": "code",
   "execution_count": null,
   "id": "fb966087-e1ee-4a22-bf25-551de0e5efd0",
   "metadata": {},
   "outputs": [],
   "source": [
    "test1=np.outer(a[0],b[0])\n",
    "test1.shape"
   ]
  },
  {
   "cell_type": "code",
   "execution_count": null,
   "id": "4db80931-945d-4f3b-b867-7119febfb955",
   "metadata": {},
   "outputs": [],
   "source": [
    "nside = 32\n",
    "npix = hp.nside2npix(nside)\n",
    "vtheta, vphi = hp.pix2ang(nside, np.arange(npix))\n",
    "vdir = skyvec(vtheta,vphi)\n",
    "v= np.column_stack(vdir)\n",
    "np.array(v)\n",
    "np.array(v).shape\n",
    "\n",
    "vdir.shape"
   ]
  },
  {
   "cell_type": "code",
   "execution_count": null,
   "id": "4f01064e-3066-4e7a-9952-85b263598d14",
   "metadata": {},
   "outputs": [],
   "source": [
    "np.arange(3)"
   ]
  },
  {
   "cell_type": "code",
   "execution_count": 6,
   "id": "5275757e-706c-41bc-af57-6222a679ac00",
   "metadata": {},
   "outputs": [
    {
     "name": "stdout",
     "output_type": "stream",
     "text": [
      "(3, 196608)\n",
      "196608\n"
     ]
    }
   ],
   "source": [
    "import healpy as hp\n",
    "import numpy as np\n",
    "\n",
    "nside = 128\n",
    "npix = hp.nside2npix(nside)\n",
    "theta, phi = hp.pix2ang(nside, np.arange(npix))\n",
    "\n",
    "def skyvec(theta,phi): #unit vector\n",
    "    ct = np.cos(theta)\n",
    "    st = np.sin(theta)\n",
    "    cp = np.cos(phi)\n",
    "    sp = np.sin(phi)\n",
    "    return np.array([st*cp,st*sp,ct])\n",
    "    \n",
    "dir = skyvec(theta,phi)\n",
    "print(np.shape(dir))\n",
    "\n",
    "print(npix)"
   ]
  },
  {
   "cell_type": "code",
   "execution_count": 95,
   "id": "7bfd3f1e-7c4f-47e5-bfaf-dce63de01951",
   "metadata": {},
   "outputs": [],
   "source": [
    "A=hp.pix2ang(12,np.arange(4))"
   ]
  },
  {
   "cell_type": "code",
   "execution_count": 41,
   "id": "0d3d7618-ffb0-4ca7-9861-42304bd5c2b3",
   "metadata": {},
   "outputs": [
    {
     "name": "stdout",
     "output_type": "stream",
     "text": [
      "12288\n"
     ]
    }
   ],
   "source": [
    "nside = 32\n",
    "npix = hp.nside2npix(nside)\n",
    "print(npix)"
   ]
  },
  {
   "cell_type": "code",
   "execution_count": 99,
   "id": "4da93804-eb82-49bb-beac-7a6954fdf10c",
   "metadata": {},
   "outputs": [
    {
     "data": {
      "text/plain": [
       "array([[-0.07767979],\n",
       "       [-0.7390738 ],\n",
       "       [ 0.66913061]])"
      ]
     },
     "execution_count": 99,
     "metadata": {},
     "output_type": "execute_result"
    }
   ],
   "source": [
    "theta0 = np.deg2rad(48) \n",
    "phi0 = np.deg2rad(264)\n",
    "v = skyvec(theta0,phi0).reshape(3,1)\n",
    "v"
   ]
  },
  {
   "cell_type": "code",
   "execution_count": null,
   "id": "c29d79d6-93f9-4b60-9997-4f9342fc69ce",
   "metadata": {},
   "outputs": [],
   "source": []
  }
 ],
 "metadata": {
  "kernelspec": {
   "display_name": "Python 3 (ipykernel)",
   "language": "python",
   "name": "python3"
  },
  "language_info": {
   "codemirror_mode": {
    "name": "ipython",
    "version": 3
   },
   "file_extension": ".py",
   "mimetype": "text/x-python",
   "name": "python",
   "nbconvert_exporter": "python",
   "pygments_lexer": "ipython3",
   "version": "3.11.9"
  }
 },
 "nbformat": 4,
 "nbformat_minor": 5
}
